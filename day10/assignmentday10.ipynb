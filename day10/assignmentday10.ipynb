{
 "cells": [
  {
   "cell_type": "code",
   "execution_count": 31,
   "id": "9f705b58-b268-4b09-96a8-cb2c55545689",
   "metadata": {},
   "outputs": [
    {
     "name": "stdout",
     "output_type": "stream",
     "text": [
      "         Date       Open       High        Low      Close  Adj Close    Volume\n",
      "0  1999-11-18  32.546494  35.765381  28.612303  31.473534  27.068665  62546300\n",
      "1  1999-11-19  30.713520  30.758226  28.478184  28.880543  24.838577  15234100\n",
      "2  1999-11-22  29.551144  31.473534  28.657009  31.473534  27.068665   6577800\n"
     ]
    }
   ],
   "source": [
    "import pandas as pd\n",
    "# loading the dataset\n",
    "df=pd.read_csv('A.csv')\n",
    "# inspecting the firsat few lines to check the datastructure of datasset\n",
    "print(df.head(3))"
   ]
  },
  {
   "cell_type": "code",
   "execution_count": 33,
   "id": "8f8524b4-c5c5-493b-aeff-39c1ff3ce89f",
   "metadata": {},
   "outputs": [
    {
     "name": "stdout",
     "output_type": "stream",
     "text": [
      "object\n"
     ]
    }
   ],
   "source": [
    "print(df[\"Date\"].dtype)"
   ]
  },
  {
   "cell_type": "code",
   "execution_count": 35,
   "id": "96d9c67b-5f8c-4219-ac5d-e9a9126c5c34",
   "metadata": {},
   "outputs": [
    {
     "name": "stdout",
     "output_type": "stream",
     "text": [
      "datetime64[ns]\n"
     ]
    }
   ],
   "source": [
    "# changing the datatype to datetime\n",
    "df[\"Date\"] = pd.to_datetime(df[\"Date\"])\n",
    "print(df[\"Date\"].dtype)"
   ]
  },
  {
   "cell_type": "code",
   "execution_count": 37,
   "id": "63387f6f-9e9e-4639-b2df-17bfba3bac2b",
   "metadata": {},
   "outputs": [
    {
     "name": "stdout",
     "output_type": "stream",
     "text": [
      "Date         0\n",
      "Open         0\n",
      "High         0\n",
      "Low          0\n",
      "Close        0\n",
      "Adj Close    0\n",
      "Volume       0\n",
      "dtype: int64\n"
     ]
    }
   ],
   "source": [
    "# checking for missing values\n",
    "m = df.isna().sum()\n",
    "print(m)"
   ]
  },
  {
   "cell_type": "code",
   "execution_count": 39,
   "id": "ec2b131c-d795-4114-b568-af070c2af01a",
   "metadata": {},
   "outputs": [
    {
     "data": {
      "text/html": [
       "<div>\n",
       "<style scoped>\n",
       "    .dataframe tbody tr th:only-of-type {\n",
       "        vertical-align: middle;\n",
       "    }\n",
       "\n",
       "    .dataframe tbody tr th {\n",
       "        vertical-align: top;\n",
       "    }\n",
       "\n",
       "    .dataframe thead th {\n",
       "        text-align: right;\n",
       "    }\n",
       "</style>\n",
       "<table border=\"1\" class=\"dataframe\">\n",
       "  <thead>\n",
       "    <tr style=\"text-align: right;\">\n",
       "      <th></th>\n",
       "      <th>Date</th>\n",
       "      <th>Open</th>\n",
       "      <th>High</th>\n",
       "      <th>Low</th>\n",
       "      <th>Close</th>\n",
       "      <th>Adj Close</th>\n",
       "      <th>Volume</th>\n",
       "    </tr>\n",
       "  </thead>\n",
       "  <tbody>\n",
       "    <tr>\n",
       "      <th>66</th>\n",
       "      <td>2000-02-24</td>\n",
       "      <td>72.514305</td>\n",
       "      <td>82.573318</td>\n",
       "      <td>71.888412</td>\n",
       "      <td>76.359085</td>\n",
       "      <td>65.672264</td>\n",
       "      <td>2956300</td>\n",
       "    </tr>\n",
       "    <tr>\n",
       "      <th>67</th>\n",
       "      <td>2000-02-25</td>\n",
       "      <td>73.944923</td>\n",
       "      <td>81.500359</td>\n",
       "      <td>73.855507</td>\n",
       "      <td>77.342636</td>\n",
       "      <td>66.518181</td>\n",
       "      <td>2048200</td>\n",
       "    </tr>\n",
       "    <tr>\n",
       "      <th>68</th>\n",
       "      <td>2000-02-28</td>\n",
       "      <td>77.342636</td>\n",
       "      <td>78.102646</td>\n",
       "      <td>70.278969</td>\n",
       "      <td>72.246063</td>\n",
       "      <td>62.134861</td>\n",
       "      <td>1675300</td>\n",
       "    </tr>\n",
       "    <tr>\n",
       "      <th>69</th>\n",
       "      <td>2000-02-29</td>\n",
       "      <td>72.559013</td>\n",
       "      <td>76.448502</td>\n",
       "      <td>72.469597</td>\n",
       "      <td>74.302574</td>\n",
       "      <td>63.903564</td>\n",
       "      <td>958000</td>\n",
       "    </tr>\n",
       "    <tr>\n",
       "      <th>70</th>\n",
       "      <td>2000-03-01</td>\n",
       "      <td>74.749641</td>\n",
       "      <td>79.935623</td>\n",
       "      <td>74.570816</td>\n",
       "      <td>78.057938</td>\n",
       "      <td>67.133362</td>\n",
       "      <td>1037800</td>\n",
       "    </tr>\n",
       "    <tr>\n",
       "      <th>...</th>\n",
       "      <td>...</td>\n",
       "      <td>...</td>\n",
       "      <td>...</td>\n",
       "      <td>...</td>\n",
       "      <td>...</td>\n",
       "      <td>...</td>\n",
       "      <td>...</td>\n",
       "    </tr>\n",
       "    <tr>\n",
       "      <th>5104</th>\n",
       "      <td>2020-03-05</td>\n",
       "      <td>82.139999</td>\n",
       "      <td>83.250000</td>\n",
       "      <td>79.699997</td>\n",
       "      <td>80.459999</td>\n",
       "      <td>80.255753</td>\n",
       "      <td>2322600</td>\n",
       "    </tr>\n",
       "    <tr>\n",
       "      <th>5105</th>\n",
       "      <td>2020-03-06</td>\n",
       "      <td>77.949997</td>\n",
       "      <td>78.900002</td>\n",
       "      <td>76.500000</td>\n",
       "      <td>78.559998</td>\n",
       "      <td>78.360580</td>\n",
       "      <td>2959900</td>\n",
       "    </tr>\n",
       "    <tr>\n",
       "      <th>5107</th>\n",
       "      <td>2020-03-10</td>\n",
       "      <td>73.050003</td>\n",
       "      <td>73.620003</td>\n",
       "      <td>69.660004</td>\n",
       "      <td>72.910004</td>\n",
       "      <td>72.724922</td>\n",
       "      <td>3537300</td>\n",
       "    </tr>\n",
       "    <tr>\n",
       "      <th>5119</th>\n",
       "      <td>2020-03-26</td>\n",
       "      <td>70.000000</td>\n",
       "      <td>74.449997</td>\n",
       "      <td>69.650002</td>\n",
       "      <td>73.720001</td>\n",
       "      <td>73.532867</td>\n",
       "      <td>3267500</td>\n",
       "    </tr>\n",
       "    <tr>\n",
       "      <th>5121</th>\n",
       "      <td>2020-03-30</td>\n",
       "      <td>71.059998</td>\n",
       "      <td>73.180000</td>\n",
       "      <td>71.059998</td>\n",
       "      <td>72.669998</td>\n",
       "      <td>72.669998</td>\n",
       "      <td>1486200</td>\n",
       "    </tr>\n",
       "  </tbody>\n",
       "</table>\n",
       "<p>269 rows × 7 columns</p>\n",
       "</div>"
      ],
      "text/plain": [
       "           Date       Open       High        Low      Close  Adj Close  \\\n",
       "66   2000-02-24  72.514305  82.573318  71.888412  76.359085  65.672264   \n",
       "67   2000-02-25  73.944923  81.500359  73.855507  77.342636  66.518181   \n",
       "68   2000-02-28  77.342636  78.102646  70.278969  72.246063  62.134861   \n",
       "69   2000-02-29  72.559013  76.448502  72.469597  74.302574  63.903564   \n",
       "70   2000-03-01  74.749641  79.935623  74.570816  78.057938  67.133362   \n",
       "...         ...        ...        ...        ...        ...        ...   \n",
       "5104 2020-03-05  82.139999  83.250000  79.699997  80.459999  80.255753   \n",
       "5105 2020-03-06  77.949997  78.900002  76.500000  78.559998  78.360580   \n",
       "5107 2020-03-10  73.050003  73.620003  69.660004  72.910004  72.724922   \n",
       "5119 2020-03-26  70.000000  74.449997  69.650002  73.720001  73.532867   \n",
       "5121 2020-03-30  71.059998  73.180000  71.059998  72.669998  72.669998   \n",
       "\n",
       "       Volume  \n",
       "66    2956300  \n",
       "67    2048200  \n",
       "68    1675300  \n",
       "69     958000  \n",
       "70    1037800  \n",
       "...       ...  \n",
       "5104  2322600  \n",
       "5105  2959900  \n",
       "5107  3537300  \n",
       "5119  3267500  \n",
       "5121  1486200  \n",
       "\n",
       "[269 rows x 7 columns]"
      ]
     },
     "execution_count": 39,
     "metadata": {},
     "output_type": "execute_result"
    }
   ],
   "source": [
    "# detecting the outliers in closing price of stock_prices\n",
    "Q1 = df[\"Close\"].quantile(0.25)\n",
    "Q3 = df[\"Close\"].quantile(0.75)\n",
    "IQR = Q3 - Q1\n",
    "lb =  Q1 - 1.5 * IQR\n",
    "ub = Q3 + 1.5 * IQR\n",
    "df[(df[\"Close\"] < lb )| (df[\"Close\"] > ub)]"
   ]
  },
  {
   "cell_type": "code",
   "execution_count": 51,
   "id": "b802d872-085e-4532-9ca0-0161557e74de",
   "metadata": {},
   "outputs": [],
   "source": [
    "# dropping the outlier\n",
    "df = df[(df[\"Close\"] > lb )& (df[\"Close\"] < ub)].dropna()"
   ]
  },
  {
   "cell_type": "code",
   "execution_count": 59,
   "id": "aff0308f-b36a-4ed0-989e-7bf88134fa0d",
   "metadata": {},
   "outputs": [
    {
     "ename": "TypeError",
     "evalue": "Only valid with DatetimeIndex, TimedeltaIndex or PeriodIndex, but got an instance of 'Index'",
     "output_type": "error",
     "traceback": [
      "\u001b[1;31m---------------------------------------------------------------------------\u001b[0m",
      "\u001b[1;31mTypeError\u001b[0m                                 Traceback (most recent call last)",
      "Cell \u001b[1;32mIn[59], line 2\u001b[0m\n\u001b[0;32m      1\u001b[0m \u001b[38;5;66;03m# resampling the data to monthly and weekly frequencies to analyze stock price pattern\u001b[39;00m\n\u001b[1;32m----> 2\u001b[0m df[\u001b[38;5;124m\"\u001b[39m\u001b[38;5;124mDate\u001b[39m\u001b[38;5;124m\"\u001b[39m]\u001b[38;5;241m.\u001b[39mresample(\u001b[38;5;124m'\u001b[39m\u001b[38;5;124mW\u001b[39m\u001b[38;5;124m'\u001b[39m)\n",
      "File \u001b[1;32m~\\AppData\\Local\\anaconda3\\Lib\\site-packages\\pandas\\core\\generic.py:9771\u001b[0m, in \u001b[0;36mNDFrame.resample\u001b[1;34m(self, rule, axis, closed, label, convention, kind, on, level, origin, offset, group_keys)\u001b[0m\n\u001b[0;32m   9768\u001b[0m \u001b[38;5;28;01melse\u001b[39;00m:\n\u001b[0;32m   9769\u001b[0m     convention \u001b[38;5;241m=\u001b[39m \u001b[38;5;124m\"\u001b[39m\u001b[38;5;124mstart\u001b[39m\u001b[38;5;124m\"\u001b[39m\n\u001b[1;32m-> 9771\u001b[0m \u001b[38;5;28;01mreturn\u001b[39;00m get_resampler(\n\u001b[0;32m   9772\u001b[0m     cast(\u001b[38;5;124m\"\u001b[39m\u001b[38;5;124mSeries | DataFrame\u001b[39m\u001b[38;5;124m\"\u001b[39m, \u001b[38;5;28mself\u001b[39m),\n\u001b[0;32m   9773\u001b[0m     freq\u001b[38;5;241m=\u001b[39mrule,\n\u001b[0;32m   9774\u001b[0m     label\u001b[38;5;241m=\u001b[39mlabel,\n\u001b[0;32m   9775\u001b[0m     closed\u001b[38;5;241m=\u001b[39mclosed,\n\u001b[0;32m   9776\u001b[0m     axis\u001b[38;5;241m=\u001b[39maxis,\n\u001b[0;32m   9777\u001b[0m     kind\u001b[38;5;241m=\u001b[39mkind,\n\u001b[0;32m   9778\u001b[0m     convention\u001b[38;5;241m=\u001b[39mconvention,\n\u001b[0;32m   9779\u001b[0m     key\u001b[38;5;241m=\u001b[39mon,\n\u001b[0;32m   9780\u001b[0m     level\u001b[38;5;241m=\u001b[39mlevel,\n\u001b[0;32m   9781\u001b[0m     origin\u001b[38;5;241m=\u001b[39morigin,\n\u001b[0;32m   9782\u001b[0m     offset\u001b[38;5;241m=\u001b[39moffset,\n\u001b[0;32m   9783\u001b[0m     group_keys\u001b[38;5;241m=\u001b[39mgroup_keys,\n\u001b[0;32m   9784\u001b[0m )\n",
      "File \u001b[1;32m~\\AppData\\Local\\anaconda3\\Lib\\site-packages\\pandas\\core\\resample.py:2050\u001b[0m, in \u001b[0;36mget_resampler\u001b[1;34m(obj, kind, **kwds)\u001b[0m\n\u001b[0;32m   2046\u001b[0m \u001b[38;5;250m\u001b[39m\u001b[38;5;124;03m\"\"\"\u001b[39;00m\n\u001b[0;32m   2047\u001b[0m \u001b[38;5;124;03mCreate a TimeGrouper and return our resampler.\u001b[39;00m\n\u001b[0;32m   2048\u001b[0m \u001b[38;5;124;03m\"\"\"\u001b[39;00m\n\u001b[0;32m   2049\u001b[0m tg \u001b[38;5;241m=\u001b[39m TimeGrouper(obj, \u001b[38;5;241m*\u001b[39m\u001b[38;5;241m*\u001b[39mkwds)  \u001b[38;5;66;03m# type: ignore[arg-type]\u001b[39;00m\n\u001b[1;32m-> 2050\u001b[0m \u001b[38;5;28;01mreturn\u001b[39;00m tg\u001b[38;5;241m.\u001b[39m_get_resampler(obj, kind\u001b[38;5;241m=\u001b[39mkind)\n",
      "File \u001b[1;32m~\\AppData\\Local\\anaconda3\\Lib\\site-packages\\pandas\\core\\resample.py:2272\u001b[0m, in \u001b[0;36mTimeGrouper._get_resampler\u001b[1;34m(self, obj, kind)\u001b[0m\n\u001b[0;32m   2263\u001b[0m \u001b[38;5;28;01melif\u001b[39;00m \u001b[38;5;28misinstance\u001b[39m(ax, TimedeltaIndex):\n\u001b[0;32m   2264\u001b[0m     \u001b[38;5;28;01mreturn\u001b[39;00m TimedeltaIndexResampler(\n\u001b[0;32m   2265\u001b[0m         obj,\n\u001b[0;32m   2266\u001b[0m         timegrouper\u001b[38;5;241m=\u001b[39m\u001b[38;5;28mself\u001b[39m,\n\u001b[1;32m   (...)\u001b[0m\n\u001b[0;32m   2269\u001b[0m         gpr_index\u001b[38;5;241m=\u001b[39max,\n\u001b[0;32m   2270\u001b[0m     )\n\u001b[1;32m-> 2272\u001b[0m \u001b[38;5;28;01mraise\u001b[39;00m \u001b[38;5;167;01mTypeError\u001b[39;00m(\n\u001b[0;32m   2273\u001b[0m     \u001b[38;5;124m\"\u001b[39m\u001b[38;5;124mOnly valid with DatetimeIndex, \u001b[39m\u001b[38;5;124m\"\u001b[39m\n\u001b[0;32m   2274\u001b[0m     \u001b[38;5;124m\"\u001b[39m\u001b[38;5;124mTimedeltaIndex or PeriodIndex, \u001b[39m\u001b[38;5;124m\"\u001b[39m\n\u001b[0;32m   2275\u001b[0m     \u001b[38;5;124mf\u001b[39m\u001b[38;5;124m\"\u001b[39m\u001b[38;5;124mbut got an instance of \u001b[39m\u001b[38;5;124m'\u001b[39m\u001b[38;5;132;01m{\u001b[39;00m\u001b[38;5;28mtype\u001b[39m(ax)\u001b[38;5;241m.\u001b[39m\u001b[38;5;18m__name__\u001b[39m\u001b[38;5;132;01m}\u001b[39;00m\u001b[38;5;124m'\u001b[39m\u001b[38;5;124m\"\u001b[39m\n\u001b[0;32m   2276\u001b[0m )\n",
      "\u001b[1;31mTypeError\u001b[0m: Only valid with DatetimeIndex, TimedeltaIndex or PeriodIndex, but got an instance of 'Index'"
     ]
    }
   ],
   "source": [
    "# resampling the data to monthly and weekly frequencies to analyze stock price pattern\n",
    "df[\"Date\"].resample('W')"
   ]
  },
  {
   "cell_type": "code",
   "execution_count": null,
   "id": "81c06c7e-439a-4b44-ba18-cc7ae93f72fe",
   "metadata": {},
   "outputs": [],
   "source": []
  }
 ],
 "metadata": {
  "kernelspec": {
   "display_name": "Python 3 (ipykernel)",
   "language": "python",
   "name": "python3"
  },
  "language_info": {
   "codemirror_mode": {
    "name": "ipython",
    "version": 3
   },
   "file_extension": ".py",
   "mimetype": "text/x-python",
   "name": "python",
   "nbconvert_exporter": "python",
   "pygments_lexer": "ipython3",
   "version": "3.12.4"
  }
 },
 "nbformat": 4,
 "nbformat_minor": 5
}
