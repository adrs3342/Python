{
 "cells": [
  {
   "cell_type": "code",
   "execution_count": 5,
   "id": "b02a4d33-6b66-4235-b6ba-3a916d8c527b",
   "metadata": {},
   "outputs": [
    {
     "name": "stdout",
     "output_type": "stream",
     "text": [
      "Table 'employees' Details:\n",
      "Column: id- Type:INTEGER\n",
      "Column: name- Type:VARCHAR(50)\n",
      "Column: age- Type:INTEGER\n",
      "Column: department- Type:VARCHAR(50)\n",
      "Column: salary- Type:FLOAT\n",
      "1:Arun-HR-$70000.0\n",
      "2:Radhika-IT-$80000.0\n",
      "3:Chetan-Finance-$120000.0\n",
      "4:Arun-HR-$70000.0\n",
      "5:Radhika-IT-$80000.0\n",
      "6:Chetan-Finance-$120000.0\n"
     ]
    }
   ],
   "source": [
    "from sqlalchemy import create_engine, MetaData, Column, Integer,String,Float,Sequence\n",
    "from sqlalchemy.orm import declarative_base\n",
    "from sqlalchemy.orm import sessionmaker\n",
    "from sqlalchemy import inspect\n",
    "\n",
    "#Set up the database and the Base Class\n",
    "engine=create_engine('sqlite:///company_orm1.db')\n",
    "Base= declarative_base()\n",
    "\n",
    "#Define the Employee model \n",
    "class Employee(Base):\n",
    "    __tablename__='employees'\n",
    "    id=Column(Integer,Sequence('employee_id_seq'),primary_key=True)\n",
    "    name= Column(String(50))\n",
    "    age=Column (Integer)\n",
    "    department=Column(String(50))\n",
    "    salary=Column(Float)\n",
    "#Create the table\n",
    "metadata=MetaData()\n",
    "metadata.reflect(bind=engine)\n",
    "Base.metadata.create_all(engine)\n",
    "employees=metadata.tables['employees']\n",
    "#Reflect the employees table to retrieve its details\n",
    "inspector=inspect(engine)\n",
    "columns=inspector.get_columns('employees') #list of dictionaries\n",
    "#Print Table Details\n",
    "print(\"Table 'employees' Details:\")\n",
    "for column in columns:\n",
    "    print(f\"Column: {column['name']}- Type:{column['type']}\")\n",
    "\n",
    "#Create a session\n",
    "Session= sessionmaker(bind=engine)\n",
    "session=Session()\n",
    "#Add employuee records\n",
    "employees=[\n",
    "    Employee(name='Arun', age=30,department='HR',salary=70000),\n",
    "    Employee(name='Radhika', age=25,department='IT',salary=80000),\n",
    "    Employee(name='Chetan', age=35,department='Finance',salary=120000),]\n",
    "session.add_all(employees)\n",
    "session.commit()\n",
    "#Query the database\n",
    "all_employees=session.query(Employee).all()\n",
    "for emp in all_employees:\n",
    "    print(f'{emp.id}:{emp.name}-{emp.department}-${emp.salary}')"
   ]
  },
  {
   "cell_type": "code",
   "execution_count": null,
   "id": "b4ed2e53-6588-4dbd-a223-d9a1928139ea",
   "metadata": {},
   "outputs": [],
   "source": []
  }
 ],
 "metadata": {
  "kernelspec": {
   "display_name": "Python 3 (ipykernel)",
   "language": "python",
   "name": "python3"
  },
  "language_info": {
   "codemirror_mode": {
    "name": "ipython",
    "version": 3
   },
   "file_extension": ".py",
   "mimetype": "text/x-python",
   "name": "python",
   "nbconvert_exporter": "python",
   "pygments_lexer": "ipython3",
   "version": "3.12.4"
  }
 },
 "nbformat": 4,
 "nbformat_minor": 5
}
