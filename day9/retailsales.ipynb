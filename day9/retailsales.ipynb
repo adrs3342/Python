{
 "cells": [
  {
   "cell_type": "code",
   "execution_count": 2,
   "id": "8196e35a-d666-46ac-ae67-4bf695d01028",
   "metadata": {},
   "outputs": [],
   "source": [
    "import pandas as pd\n",
    "import numpy as np\n"
   ]
  },
  {
   "cell_type": "code",
   "execution_count": 3,
   "id": "23cdaf85-cbe1-4baa-bac6-bda1156b764c",
   "metadata": {},
   "outputs": [],
   "source": [
    "##Load data from CSV file into a Pandas DataFrame.\n",
    "df = pd.read_csv(\"retail_sales.csv\")"
   ]
  },
  {
   "cell_type": "code",
   "execution_count": 4,
   "id": "b7fb249b-05f0-4438-b96f-221e11e5ad53",
   "metadata": {},
   "outputs": [
    {
     "data": {
      "text/html": [
       "<div>\n",
       "<style scoped>\n",
       "    .dataframe tbody tr th:only-of-type {\n",
       "        vertical-align: middle;\n",
       "    }\n",
       "\n",
       "    .dataframe tbody tr th {\n",
       "        vertical-align: top;\n",
       "    }\n",
       "\n",
       "    .dataframe thead th {\n",
       "        text-align: right;\n",
       "    }\n",
       "</style>\n",
       "<table border=\"1\" class=\"dataframe\">\n",
       "  <thead>\n",
       "    <tr style=\"text-align: right;\">\n",
       "      <th></th>\n",
       "      <th>Date</th>\n",
       "      <th>Store</th>\n",
       "      <th>Product</th>\n",
       "      <th>Category</th>\n",
       "      <th>Sales</th>\n",
       "      <th>Quantity</th>\n",
       "    </tr>\n",
       "  </thead>\n",
       "  <tbody>\n",
       "    <tr>\n",
       "      <th>0</th>\n",
       "      <td>29-01-2023</td>\n",
       "      <td>Store_D</td>\n",
       "      <td>Product_3</td>\n",
       "      <td>Category_2</td>\n",
       "      <td>430.24</td>\n",
       "      <td>11</td>\n",
       "    </tr>\n",
       "    <tr>\n",
       "      <th>1</th>\n",
       "      <td>09-10-2023</td>\n",
       "      <td>Store_B</td>\n",
       "      <td>Product_1</td>\n",
       "      <td>Category_2</td>\n",
       "      <td>212.26</td>\n",
       "      <td>18</td>\n",
       "    </tr>\n",
       "    <tr>\n",
       "      <th>2</th>\n",
       "      <td>09-08-2023</td>\n",
       "      <td>Store_C</td>\n",
       "      <td>Product_1</td>\n",
       "      <td>Category_1</td>\n",
       "      <td>538.42</td>\n",
       "      <td>8</td>\n",
       "    </tr>\n",
       "    <tr>\n",
       "      <th>3</th>\n",
       "      <td>03-05-2023</td>\n",
       "      <td>Store_B</td>\n",
       "      <td>Product_2</td>\n",
       "      <td>Category_2</td>\n",
       "      <td>670.34</td>\n",
       "      <td>9</td>\n",
       "    </tr>\n",
       "    <tr>\n",
       "      <th>4</th>\n",
       "      <td>08-11-2023</td>\n",
       "      <td>Store_A</td>\n",
       "      <td>Product_3</td>\n",
       "      <td>Category_3</td>\n",
       "      <td>562.97</td>\n",
       "      <td>17</td>\n",
       "    </tr>\n",
       "    <tr>\n",
       "      <th>5</th>\n",
       "      <td>27-05-2023</td>\n",
       "      <td>Store_E</td>\n",
       "      <td>Product_3</td>\n",
       "      <td>Category_1</td>\n",
       "      <td>251.85</td>\n",
       "      <td>12</td>\n",
       "    </tr>\n",
       "    <tr>\n",
       "      <th>6</th>\n",
       "      <td>09-04-2023</td>\n",
       "      <td>Store_C</td>\n",
       "      <td>Product_4</td>\n",
       "      <td>Category_3</td>\n",
       "      <td>660.08</td>\n",
       "      <td>8</td>\n",
       "    </tr>\n",
       "    <tr>\n",
       "      <th>7</th>\n",
       "      <td>09-02-2023</td>\n",
       "      <td>Store_D</td>\n",
       "      <td>Product_4</td>\n",
       "      <td>Category_2</td>\n",
       "      <td>388.39</td>\n",
       "      <td>7</td>\n",
       "    </tr>\n",
       "    <tr>\n",
       "      <th>8</th>\n",
       "      <td>17-05-2023</td>\n",
       "      <td>Store_D</td>\n",
       "      <td>Product_2</td>\n",
       "      <td>Category_1</td>\n",
       "      <td>164.68</td>\n",
       "      <td>9</td>\n",
       "    </tr>\n",
       "    <tr>\n",
       "      <th>9</th>\n",
       "      <td>03-10-2023</td>\n",
       "      <td>Store_E</td>\n",
       "      <td>Product_5</td>\n",
       "      <td>Category_2</td>\n",
       "      <td>424.08</td>\n",
       "      <td>1</td>\n",
       "    </tr>\n",
       "  </tbody>\n",
       "</table>\n",
       "</div>"
      ],
      "text/plain": [
       "         Date    Store    Product    Category   Sales  Quantity\n",
       "0  29-01-2023  Store_D  Product_3  Category_2  430.24        11\n",
       "1  09-10-2023  Store_B  Product_1  Category_2  212.26        18\n",
       "2  09-08-2023  Store_C  Product_1  Category_1  538.42         8\n",
       "3  03-05-2023  Store_B  Product_2  Category_2  670.34         9\n",
       "4  08-11-2023  Store_A  Product_3  Category_3  562.97        17\n",
       "5  27-05-2023  Store_E  Product_3  Category_1  251.85        12\n",
       "6  09-04-2023  Store_C  Product_4  Category_3  660.08         8\n",
       "7  09-02-2023  Store_D  Product_4  Category_2  388.39         7\n",
       "8  17-05-2023  Store_D  Product_2  Category_1  164.68         9\n",
       "9  03-10-2023  Store_E  Product_5  Category_2  424.08         1"
      ]
     },
     "execution_count": 4,
     "metadata": {},
     "output_type": "execute_result"
    }
   ],
   "source": [
    "##Display the first 10 rows of the data to get an overview.\n",
    "df.head(10)"
   ]
  },
  {
   "cell_type": "code",
   "execution_count": 5,
   "id": "c3b53e3a-841c-4e8f-8330-010333d54cd2",
   "metadata": {},
   "outputs": [
    {
     "name": "stdout",
     "output_type": "stream",
     "text": [
      "<class 'pandas.core.frame.DataFrame'>\n",
      "RangeIndex: 500 entries, 0 to 499\n",
      "Data columns (total 6 columns):\n",
      " #   Column    Non-Null Count  Dtype  \n",
      "---  ------    --------------  -----  \n",
      " 0   Date      500 non-null    object \n",
      " 1   Store     500 non-null    object \n",
      " 2   Product   500 non-null    object \n",
      " 3   Category  500 non-null    object \n",
      " 4   Sales     500 non-null    float64\n",
      " 5   Quantity  500 non-null    int64  \n",
      "dtypes: float64(1), int64(1), object(4)\n",
      "memory usage: 23.6+ KB\n"
     ]
    }
   ],
   "source": [
    "#Check for any missing values and handle them appropriately.\n",
    "df.info()"
   ]
  },
  {
   "cell_type": "code",
   "execution_count": 6,
   "id": "865b607d-fb95-498e-ab78-c8bb5c67473c",
   "metadata": {},
   "outputs": [
    {
     "name": "stdout",
     "output_type": "stream",
     "text": [
      "the number of null values are :Date        0\n",
      "Store       0\n",
      "Product     0\n",
      "Category    0\n",
      "Sales       0\n",
      "Quantity    0\n",
      "dtype: int64\n"
     ]
    }
   ],
   "source": [
    "c = df.isna().sum()\n",
    "print(f'the number of null values are :{c}')"
   ]
  },
  {
   "cell_type": "code",
   "execution_count": 7,
   "id": "620ad941-20d6-43c7-a430-188f18c5af8d",
   "metadata": {},
   "outputs": [
    {
     "name": "stdout",
     "output_type": "stream",
     "text": [
      "datetime64[ns]\n"
     ]
    }
   ],
   "source": [
    "#Convert the Date column to datetime format.\n",
    "df[\"Date\"] = pd.to_datetime(df[\"Date\"], dayfirst=True)\n",
    "print(df[\"Date\"].dtype)"
   ]
  },
  {
   "cell_type": "code",
   "execution_count": 8,
   "id": "36722a67-df69-4ea5-b326-1bd361a0ad62",
   "metadata": {},
   "outputs": [
    {
     "name": "stdout",
     "output_type": "stream",
     "text": [
      "<class 'pandas.core.frame.DataFrame'>\n",
      "RangeIndex: 500 entries, 0 to 499\n",
      "Data columns (total 6 columns):\n",
      " #   Column    Non-Null Count  Dtype         \n",
      "---  ------    --------------  -----         \n",
      " 0   Date      500 non-null    datetime64[ns]\n",
      " 1   Store     500 non-null    object        \n",
      " 2   Product   500 non-null    object        \n",
      " 3   Category  500 non-null    object        \n",
      " 4   Sales     500 non-null    float64       \n",
      " 5   Quantity  500 non-null    int64         \n",
      "dtypes: datetime64[ns](1), float64(1), int64(1), object(3)\n",
      "memory usage: 23.6+ KB\n"
     ]
    }
   ],
   "source": [
    "#Remove any duplicate entries if present\n",
    "df = df.drop_duplicates()\n",
    "df.info()"
   ]
  },
  {
   "cell_type": "code",
   "execution_count": 9,
   "id": "f1191ce6-325f-44eb-9d2f-e4d28b206cea",
   "metadata": {},
   "outputs": [
    {
     "data": {
      "text/html": [
       "<div>\n",
       "<style scoped>\n",
       "    .dataframe tbody tr th:only-of-type {\n",
       "        vertical-align: middle;\n",
       "    }\n",
       "\n",
       "    .dataframe tbody tr th {\n",
       "        vertical-align: top;\n",
       "    }\n",
       "\n",
       "    .dataframe thead th {\n",
       "        text-align: right;\n",
       "    }\n",
       "</style>\n",
       "<table border=\"1\" class=\"dataframe\">\n",
       "  <thead>\n",
       "    <tr style=\"text-align: right;\">\n",
       "      <th></th>\n",
       "      <th>Date</th>\n",
       "      <th>Store</th>\n",
       "      <th>Product</th>\n",
       "      <th>Category</th>\n",
       "      <th>Sales</th>\n",
       "      <th>Quantity</th>\n",
       "    </tr>\n",
       "  </thead>\n",
       "  <tbody>\n",
       "  </tbody>\n",
       "</table>\n",
       "</div>"
      ],
      "text/plain": [
       "Empty DataFrame\n",
       "Columns: [Date, Store, Product, Category, Sales, Quantity]\n",
       "Index: []"
      ]
     },
     "execution_count": 9,
     "metadata": {},
     "output_type": "execute_result"
    }
   ],
   "source": [
    "# Handle outliers in the Sales column using the IQR method by replacing them with the median sales value.\n",
    "Q1 = df[\"Sales\"].quantile(0.25)\n",
    "Q3 = df[\"Sales\"].quantile(0.75)\n",
    "IQR = Q3 - Q1\n",
    "lb =  Q1 - 1.5 * IQR\n",
    "ub = Q3 + 1.5 * IQR\n",
    "df[(df[\"Sales\"] < lb )| (df[\"Sales\"] > ub)].dropna()"
   ]
  },
  {
   "cell_type": "code",
   "execution_count": 10,
   "id": "cadf1de6-6b3b-4dcc-993a-6e480b8bd3a2",
   "metadata": {},
   "outputs": [
    {
     "name": "stdout",
     "output_type": "stream",
     "text": [
      "float64\n"
     ]
    }
   ],
   "source": [
    "print(df['Sales'].dtype)"
   ]
  },
  {
   "cell_type": "code",
   "execution_count": 11,
   "id": "80097fc2-7c46-4fa6-bf4d-d7a72f495ae6",
   "metadata": {},
   "outputs": [
    {
     "data": {
      "text/plain": [
       "Store\n",
       "Store_A    52090.36\n",
       "Store_B    50726.71\n",
       "Store_C    44523.58\n",
       "Store_D    45760.32\n",
       "Store_E    45513.99\n",
       "Name: Sales, dtype: float64"
      ]
     },
     "execution_count": 11,
     "metadata": {},
     "output_type": "execute_result"
    }
   ],
   "source": [
    "#Calculate the total sales for each store and display the top 5 stores by sales.\n",
    "df.groupby('Store')['Sales'].sum()\n"
   ]
  },
  {
   "cell_type": "code",
   "execution_count": 12,
   "id": "c4192d30-a92f-4455-8251-e05d3e610012",
   "metadata": {},
   "outputs": [
    {
     "name": "stdout",
     "output_type": "stream",
     "text": [
      "Product     Product_5\n",
      "Sales      497.446531\n",
      "dtype: object\n"
     ]
    }
   ],
   "source": [
    "#Find out which product category has the highest average sales.\n",
    "s2 = df.groupby('Product')['Sales'].mean()\n",
    "s2 = s2 = s2.reset_index()\n",
    "print(s2.max())"
   ]
  },
  {
   "cell_type": "code",
   "execution_count": 13,
   "id": "cc34725d-739f-4fab-b7ef-9e06a5023dc2",
   "metadata": {},
   "outputs": [
    {
     "name": "stdout",
     "output_type": "stream",
     "text": [
      "Product     Product_5\n",
      "Quantity         1222\n",
      "dtype: object\n"
     ]
    }
   ],
   "source": [
    "#Identify the best-selling product in terms of quantity sold.\n",
    "s3 = df.groupby('Product')['Quantity'].sum().reset_index()\n",
    "print(s3.max())"
   ]
  },
  {
   "cell_type": "code",
   "execution_count": 14,
   "id": "f0c60c68-80bd-4c82-8f61-2b9557e10070",
   "metadata": {},
   "outputs": [
    {
     "data": {
      "text/html": [
       "<div>\n",
       "<style scoped>\n",
       "    .dataframe tbody tr th:only-of-type {\n",
       "        vertical-align: middle;\n",
       "    }\n",
       "\n",
       "    .dataframe tbody tr th {\n",
       "        vertical-align: top;\n",
       "    }\n",
       "\n",
       "    .dataframe thead th {\n",
       "        text-align: right;\n",
       "    }\n",
       "</style>\n",
       "<table border=\"1\" class=\"dataframe\">\n",
       "  <thead>\n",
       "    <tr style=\"text-align: right;\">\n",
       "      <th></th>\n",
       "      <th>Date</th>\n",
       "      <th>Store</th>\n",
       "      <th>Product</th>\n",
       "      <th>Category</th>\n",
       "      <th>Sales</th>\n",
       "      <th>Quantity</th>\n",
       "    </tr>\n",
       "  </thead>\n",
       "  <tbody>\n",
       "  </tbody>\n",
       "</table>\n",
       "</div>"
      ],
      "text/plain": [
       "Empty DataFrame\n",
       "Columns: [Date, Store, Product, Category, Sales, Quantity]\n",
       "Index: []"
      ]
     },
     "execution_count": 14,
     "metadata": {},
     "output_type": "execute_result"
    }
   ],
   "source": [
    "#Use the IQR method to detect outliers in the Quantity column.\n",
    "Q1 = df[\"Quantity\"].quantile(0.25)\n",
    "Q3 = df[\"Quantity\"].quantile(0.75)\n",
    "IQR = Q3 - Q1\n",
    "lb =  Q1 - 1.5 * IQR\n",
    "ub = Q3 + 1.5 * IQR\n",
    "df[(df[\"Quantity\"] < lb )| (df[\"Quantity\"] > ub)].dropna()"
   ]
  },
  {
   "cell_type": "code",
   "execution_count": 43,
   "id": "9a9b9a99-cefe-4fa9-b49d-8bec5f0e536b",
   "metadata": {},
   "outputs": [],
   "source": [
    "#Rank the products by total sales in descending order and display the top 10 products.\n",
    "df = df.sort_values(by = \"Sales\", ascending = False)"
   ]
  },
  {
   "cell_type": "code",
   "execution_count": 45,
   "id": "1eb95bbb-a9e4-405c-a17c-b77e1eddede2",
   "metadata": {},
   "outputs": [
    {
     "data": {
      "text/html": [
       "<div>\n",
       "<style scoped>\n",
       "    .dataframe tbody tr th:only-of-type {\n",
       "        vertical-align: middle;\n",
       "    }\n",
       "\n",
       "    .dataframe tbody tr th {\n",
       "        vertical-align: top;\n",
       "    }\n",
       "\n",
       "    .dataframe thead th {\n",
       "        text-align: right;\n",
       "    }\n",
       "</style>\n",
       "<table border=\"1\" class=\"dataframe\">\n",
       "  <thead>\n",
       "    <tr style=\"text-align: right;\">\n",
       "      <th></th>\n",
       "      <th>Date</th>\n",
       "      <th>Store</th>\n",
       "      <th>Product</th>\n",
       "      <th>Category</th>\n",
       "      <th>Sales</th>\n",
       "      <th>Quantity</th>\n",
       "    </tr>\n",
       "  </thead>\n",
       "  <tbody>\n",
       "    <tr>\n",
       "      <th>469</th>\n",
       "      <td>2023-09-16</td>\n",
       "      <td>Store_B</td>\n",
       "      <td>Product_3</td>\n",
       "      <td>Category_3</td>\n",
       "      <td>998.13</td>\n",
       "      <td>9</td>\n",
       "    </tr>\n",
       "    <tr>\n",
       "      <th>364</th>\n",
       "      <td>2023-01-21</td>\n",
       "      <td>Store_E</td>\n",
       "      <td>Product_3</td>\n",
       "      <td>Category_1</td>\n",
       "      <td>996.71</td>\n",
       "      <td>2</td>\n",
       "    </tr>\n",
       "    <tr>\n",
       "      <th>88</th>\n",
       "      <td>2023-07-19</td>\n",
       "      <td>Store_D</td>\n",
       "      <td>Product_1</td>\n",
       "      <td>Category_1</td>\n",
       "      <td>995.62</td>\n",
       "      <td>18</td>\n",
       "    </tr>\n",
       "    <tr>\n",
       "      <th>126</th>\n",
       "      <td>2023-05-31</td>\n",
       "      <td>Store_A</td>\n",
       "      <td>Product_5</td>\n",
       "      <td>Category_2</td>\n",
       "      <td>994.72</td>\n",
       "      <td>10</td>\n",
       "    </tr>\n",
       "    <tr>\n",
       "      <th>487</th>\n",
       "      <td>2023-06-05</td>\n",
       "      <td>Store_D</td>\n",
       "      <td>Product_4</td>\n",
       "      <td>Category_3</td>\n",
       "      <td>992.74</td>\n",
       "      <td>8</td>\n",
       "    </tr>\n",
       "    <tr>\n",
       "      <th>336</th>\n",
       "      <td>2023-02-10</td>\n",
       "      <td>Store_B</td>\n",
       "      <td>Product_1</td>\n",
       "      <td>Category_3</td>\n",
       "      <td>991.81</td>\n",
       "      <td>1</td>\n",
       "    </tr>\n",
       "    <tr>\n",
       "      <th>490</th>\n",
       "      <td>2023-11-03</td>\n",
       "      <td>Store_E</td>\n",
       "      <td>Product_5</td>\n",
       "      <td>Category_1</td>\n",
       "      <td>990.02</td>\n",
       "      <td>4</td>\n",
       "    </tr>\n",
       "    <tr>\n",
       "      <th>418</th>\n",
       "      <td>2023-06-19</td>\n",
       "      <td>Store_A</td>\n",
       "      <td>Product_2</td>\n",
       "      <td>Category_2</td>\n",
       "      <td>989.15</td>\n",
       "      <td>9</td>\n",
       "    </tr>\n",
       "    <tr>\n",
       "      <th>247</th>\n",
       "      <td>2023-03-20</td>\n",
       "      <td>Store_A</td>\n",
       "      <td>Product_3</td>\n",
       "      <td>Category_1</td>\n",
       "      <td>986.45</td>\n",
       "      <td>8</td>\n",
       "    </tr>\n",
       "    <tr>\n",
       "      <th>127</th>\n",
       "      <td>2023-05-08</td>\n",
       "      <td>Store_B</td>\n",
       "      <td>Product_2</td>\n",
       "      <td>Category_1</td>\n",
       "      <td>985.04</td>\n",
       "      <td>4</td>\n",
       "    </tr>\n",
       "    <tr>\n",
       "      <th>387</th>\n",
       "      <td>2023-07-09</td>\n",
       "      <td>Store_D</td>\n",
       "      <td>Product_1</td>\n",
       "      <td>Category_2</td>\n",
       "      <td>983.69</td>\n",
       "      <td>17</td>\n",
       "    </tr>\n",
       "    <tr>\n",
       "      <th>462</th>\n",
       "      <td>2023-04-18</td>\n",
       "      <td>Store_A</td>\n",
       "      <td>Product_3</td>\n",
       "      <td>Category_3</td>\n",
       "      <td>980.37</td>\n",
       "      <td>18</td>\n",
       "    </tr>\n",
       "    <tr>\n",
       "      <th>281</th>\n",
       "      <td>2023-10-16</td>\n",
       "      <td>Store_E</td>\n",
       "      <td>Product_4</td>\n",
       "      <td>Category_2</td>\n",
       "      <td>979.69</td>\n",
       "      <td>15</td>\n",
       "    </tr>\n",
       "    <tr>\n",
       "      <th>393</th>\n",
       "      <td>2023-10-11</td>\n",
       "      <td>Store_C</td>\n",
       "      <td>Product_5</td>\n",
       "      <td>Category_1</td>\n",
       "      <td>979.45</td>\n",
       "      <td>12</td>\n",
       "    </tr>\n",
       "    <tr>\n",
       "      <th>245</th>\n",
       "      <td>2023-11-18</td>\n",
       "      <td>Store_B</td>\n",
       "      <td>Product_1</td>\n",
       "      <td>Category_2</td>\n",
       "      <td>974.16</td>\n",
       "      <td>14</td>\n",
       "    </tr>\n",
       "    <tr>\n",
       "      <th>361</th>\n",
       "      <td>2023-03-15</td>\n",
       "      <td>Store_A</td>\n",
       "      <td>Product_1</td>\n",
       "      <td>Category_1</td>\n",
       "      <td>973.37</td>\n",
       "      <td>5</td>\n",
       "    </tr>\n",
       "    <tr>\n",
       "      <th>49</th>\n",
       "      <td>2023-07-12</td>\n",
       "      <td>Store_A</td>\n",
       "      <td>Product_3</td>\n",
       "      <td>Category_1</td>\n",
       "      <td>970.56</td>\n",
       "      <td>2</td>\n",
       "    </tr>\n",
       "    <tr>\n",
       "      <th>35</th>\n",
       "      <td>2023-04-09</td>\n",
       "      <td>Store_C</td>\n",
       "      <td>Product_1</td>\n",
       "      <td>Category_1</td>\n",
       "      <td>967.96</td>\n",
       "      <td>1</td>\n",
       "    </tr>\n",
       "    <tr>\n",
       "      <th>422</th>\n",
       "      <td>2023-05-17</td>\n",
       "      <td>Store_B</td>\n",
       "      <td>Product_2</td>\n",
       "      <td>Category_2</td>\n",
       "      <td>966.33</td>\n",
       "      <td>5</td>\n",
       "    </tr>\n",
       "    <tr>\n",
       "      <th>431</th>\n",
       "      <td>2023-11-24</td>\n",
       "      <td>Store_C</td>\n",
       "      <td>Product_3</td>\n",
       "      <td>Category_1</td>\n",
       "      <td>965.45</td>\n",
       "      <td>10</td>\n",
       "    </tr>\n",
       "  </tbody>\n",
       "</table>\n",
       "</div>"
      ],
      "text/plain": [
       "          Date    Store    Product    Category   Sales  Quantity\n",
       "469 2023-09-16  Store_B  Product_3  Category_3  998.13         9\n",
       "364 2023-01-21  Store_E  Product_3  Category_1  996.71         2\n",
       "88  2023-07-19  Store_D  Product_1  Category_1  995.62        18\n",
       "126 2023-05-31  Store_A  Product_5  Category_2  994.72        10\n",
       "487 2023-06-05  Store_D  Product_4  Category_3  992.74         8\n",
       "336 2023-02-10  Store_B  Product_1  Category_3  991.81         1\n",
       "490 2023-11-03  Store_E  Product_5  Category_1  990.02         4\n",
       "418 2023-06-19  Store_A  Product_2  Category_2  989.15         9\n",
       "247 2023-03-20  Store_A  Product_3  Category_1  986.45         8\n",
       "127 2023-05-08  Store_B  Product_2  Category_1  985.04         4\n",
       "387 2023-07-09  Store_D  Product_1  Category_2  983.69        17\n",
       "462 2023-04-18  Store_A  Product_3  Category_3  980.37        18\n",
       "281 2023-10-16  Store_E  Product_4  Category_2  979.69        15\n",
       "393 2023-10-11  Store_C  Product_5  Category_1  979.45        12\n",
       "245 2023-11-18  Store_B  Product_1  Category_2  974.16        14\n",
       "361 2023-03-15  Store_A  Product_1  Category_1  973.37         5\n",
       "49  2023-07-12  Store_A  Product_3  Category_1  970.56         2\n",
       "35  2023-04-09  Store_C  Product_1  Category_1  967.96         1\n",
       "422 2023-05-17  Store_B  Product_2  Category_2  966.33         5\n",
       "431 2023-11-24  Store_C  Product_3  Category_1  965.45        10"
      ]
     },
     "execution_count": 45,
     "metadata": {},
     "output_type": "execute_result"
    }
   ],
   "source": [
    "df.head(20)"
   ]
  },
  {
   "cell_type": "code",
   "execution_count": 51,
   "id": "d8b9152d-a2dc-46de-a996-7a702e8d2c92",
   "metadata": {},
   "outputs": [
    {
     "name": "stdout",
     "output_type": "stream",
     "text": [
      "Store\n",
      "Store_A    1.0\n",
      "Store_B    2.0\n",
      "Store_C    4.0\n",
      "Store_D    3.0\n",
      "Store_E    5.0\n",
      "Name: Sales, dtype: float64\n"
     ]
    }
   ],
   "source": [
    "# Rank the stores by their average sales amount using the rank() method with the 'min' ranking method for ties.\n",
    "r = df.groupby(\"Store\")[\"Sales\"].mean()\n",
    "rnk = r.rank(ascending = False)\n",
    "print(rnk)"
   ]
  }
 ],
 "metadata": {
  "kernelspec": {
   "display_name": "Python 3 (ipykernel)",
   "language": "python",
   "name": "python3"
  },
  "language_info": {
   "codemirror_mode": {
    "name": "ipython",
    "version": 3
   },
   "file_extension": ".py",
   "mimetype": "text/x-python",
   "name": "python",
   "nbconvert_exporter": "python",
   "pygments_lexer": "ipython3",
   "version": "3.12.4"
  }
 },
 "nbformat": 4,
 "nbformat_minor": 5
}
